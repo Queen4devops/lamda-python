{
 "cells": [
  {
   "cell_type": "code",
   "execution_count": 139,
   "metadata": {},
   "outputs": [],
   "source": [
    "import boto3\n",
    "from datetime import datetime"
   ]
  },
  {
   "cell_type": "code",
   "execution_count": 140,
   "metadata": {},
   "outputs": [],
   "source": [
    "today = datetime.today()"
   ]
  },
  {
   "cell_type": "code",
   "execution_count": 141,
   "metadata": {},
   "outputs": [
    {
     "data": {
      "text/plain": [
       "datetime.datetime(2024, 2, 27, 15, 11, 38, 564570)"
      ]
     },
     "execution_count": 141,
     "metadata": {},
     "output_type": "execute_result"
    }
   ],
   "source": [
    "today"
   ]
  },
  {
   "cell_type": "code",
   "execution_count": 142,
   "metadata": {},
   "outputs": [],
   "source": [
    "todays_date = today.strftime (\"%Y%m%d\")"
   ]
  },
  {
   "cell_type": "code",
   "execution_count": 143,
   "metadata": {},
   "outputs": [
    {
     "data": {
      "text/plain": [
       "'20240227'"
      ]
     },
     "execution_count": 143,
     "metadata": {},
     "output_type": "execute_result"
    }
   ],
   "source": [
    "todays_date"
   ]
  },
  {
   "cell_type": "code",
   "execution_count": 144,
   "metadata": {},
   "outputs": [],
   "source": [
    "s3_client = boto3.client('s3')"
   ]
  },
  {
   "cell_type": "code",
   "execution_count": 145,
   "metadata": {},
   "outputs": [],
   "source": [
    "bucket_name = \"mypythonjob-lambda\""
   ]
  },
  {
   "cell_type": "code",
   "execution_count": 146,
   "metadata": {},
   "outputs": [],
   "source": [
    "list_objects_response = s3_client.list_objects_v2(Bucket=bucket_name)"
   ]
  },
  {
   "cell_type": "code",
   "execution_count": 147,
   "metadata": {},
   "outputs": [
    {
     "data": {
      "text/plain": [
       "{'ResponseMetadata': {'RequestId': 'CF58WJMBN3DKTJA3',\n",
       "  'HostId': 'irLZ1NvxzKbwZ4h0ww6UBoOAVjKqpTH+KZpf4ZjKkbWC8zKPFKceNig6Jc24fnUnrVCVxRKpm24=',\n",
       "  'HTTPStatusCode': 200,\n",
       "  'HTTPHeaders': {'x-amz-id-2': 'irLZ1NvxzKbwZ4h0ww6UBoOAVjKqpTH+KZpf4ZjKkbWC8zKPFKceNig6Jc24fnUnrVCVxRKpm24=',\n",
       "   'x-amz-request-id': 'CF58WJMBN3DKTJA3',\n",
       "   'date': 'Tue, 27 Feb 2024 20:11:40 GMT',\n",
       "   'x-amz-bucket-region': 'us-east-1',\n",
       "   'content-type': 'application/xml',\n",
       "   'transfer-encoding': 'chunked',\n",
       "   'server': 'AmazonS3'},\n",
       "  'RetryAttempts': 0},\n",
       " 'IsTruncated': False,\n",
       " 'Contents': [{'Key': '20240227/',\n",
       "   'LastModified': datetime.datetime(2024, 2, 27, 19, 51, 42, tzinfo=tzutc()),\n",
       "   'ETag': '\"d41d8cd98f00b204e9800998ecf8427e\"',\n",
       "   'Size': 0,\n",
       "   'StorageClass': 'STANDARD'},\n",
       "  {'Key': '20240227/bobo.jpg',\n",
       "   'LastModified': datetime.datetime(2024, 2, 27, 20, 11, 20, tzinfo=tzutc()),\n",
       "   'ETag': '\"2e8237e26cfa24fea01e2cb224b71ab3\"',\n",
       "   'Size': 10488,\n",
       "   'StorageClass': 'STANDARD'},\n",
       "  {'Key': '20240227/eyes1.webp',\n",
       "   'LastModified': datetime.datetime(2024, 2, 27, 19, 46, 16, tzinfo=tzutc()),\n",
       "   'ETag': '\"1ab2bce08a6c9b50ec1facd8dc313d6c\"',\n",
       "   'Size': 54628,\n",
       "   'StorageClass': 'STANDARD'},\n",
       "  {'Key': '20240227/eyes2.webp',\n",
       "   'LastModified': datetime.datetime(2024, 2, 27, 19, 46, 17, tzinfo=tzutc()),\n",
       "   'ETag': '\"0bc89bdad138edc47ef8bad5af4b8b17\"',\n",
       "   'Size': 74740,\n",
       "   'StorageClass': 'STANDARD'},\n",
       "  {'Key': '20240227/eyes3.webp',\n",
       "   'LastModified': datetime.datetime(2024, 2, 27, 19, 40, 22, tzinfo=tzutc()),\n",
       "   'ETag': '\"2d6474225eeb05a65733465ddcd8778e\"',\n",
       "   'Size': 45890,\n",
       "   'StorageClass': 'STANDARD'},\n",
       "  {'Key': '20240227/game.jpg',\n",
       "   'LastModified': datetime.datetime(2024, 2, 27, 20, 11, 20, tzinfo=tzutc()),\n",
       "   'ETag': '\"5521794246ff422cac4485ebb1d18794\"',\n",
       "   'Size': 13219,\n",
       "   'StorageClass': 'STANDARD'},\n",
       "  {'Key': '20240227/gogo.jpg',\n",
       "   'LastModified': datetime.datetime(2024, 2, 27, 20, 7, 18, tzinfo=tzutc()),\n",
       "   'ETag': '\"797d3e1f3a9f5b255607591c5d6133f0\"',\n",
       "   'Size': 8561,\n",
       "   'StorageClass': 'STANDARD'},\n",
       "  {'Key': 'bobo.jpg',\n",
       "   'LastModified': datetime.datetime(2024, 2, 27, 20, 4, 51, tzinfo=tzutc()),\n",
       "   'ETag': '\"2e8237e26cfa24fea01e2cb224b71ab3\"',\n",
       "   'Size': 10488,\n",
       "   'StorageClass': 'STANDARD'}],\n",
       " 'Name': 'mypythonjob-lambda',\n",
       " 'Prefix': '',\n",
       " 'MaxKeys': 1000,\n",
       " 'EncodingType': 'url',\n",
       " 'KeyCount': 8}"
      ]
     },
     "execution_count": 147,
     "metadata": {},
     "output_type": "execute_result"
    }
   ],
   "source": [
    "list_objects_response"
   ]
  },
  {
   "cell_type": "code",
   "execution_count": 148,
   "metadata": {},
   "outputs": [],
   "source": [
    "get_contents = list_objects_response.get(\"Contents\")"
   ]
  },
  {
   "cell_type": "code",
   "execution_count": 149,
   "metadata": {},
   "outputs": [
    {
     "data": {
      "text/plain": [
       "[{'Key': '20240227/',\n",
       "  'LastModified': datetime.datetime(2024, 2, 27, 19, 51, 42, tzinfo=tzutc()),\n",
       "  'ETag': '\"d41d8cd98f00b204e9800998ecf8427e\"',\n",
       "  'Size': 0,\n",
       "  'StorageClass': 'STANDARD'},\n",
       " {'Key': '20240227/bobo.jpg',\n",
       "  'LastModified': datetime.datetime(2024, 2, 27, 20, 11, 20, tzinfo=tzutc()),\n",
       "  'ETag': '\"2e8237e26cfa24fea01e2cb224b71ab3\"',\n",
       "  'Size': 10488,\n",
       "  'StorageClass': 'STANDARD'},\n",
       " {'Key': '20240227/eyes1.webp',\n",
       "  'LastModified': datetime.datetime(2024, 2, 27, 19, 46, 16, tzinfo=tzutc()),\n",
       "  'ETag': '\"1ab2bce08a6c9b50ec1facd8dc313d6c\"',\n",
       "  'Size': 54628,\n",
       "  'StorageClass': 'STANDARD'},\n",
       " {'Key': '20240227/eyes2.webp',\n",
       "  'LastModified': datetime.datetime(2024, 2, 27, 19, 46, 17, tzinfo=tzutc()),\n",
       "  'ETag': '\"0bc89bdad138edc47ef8bad5af4b8b17\"',\n",
       "  'Size': 74740,\n",
       "  'StorageClass': 'STANDARD'},\n",
       " {'Key': '20240227/eyes3.webp',\n",
       "  'LastModified': datetime.datetime(2024, 2, 27, 19, 40, 22, tzinfo=tzutc()),\n",
       "  'ETag': '\"2d6474225eeb05a65733465ddcd8778e\"',\n",
       "  'Size': 45890,\n",
       "  'StorageClass': 'STANDARD'},\n",
       " {'Key': '20240227/game.jpg',\n",
       "  'LastModified': datetime.datetime(2024, 2, 27, 20, 11, 20, tzinfo=tzutc()),\n",
       "  'ETag': '\"5521794246ff422cac4485ebb1d18794\"',\n",
       "  'Size': 13219,\n",
       "  'StorageClass': 'STANDARD'},\n",
       " {'Key': '20240227/gogo.jpg',\n",
       "  'LastModified': datetime.datetime(2024, 2, 27, 20, 7, 18, tzinfo=tzutc()),\n",
       "  'ETag': '\"797d3e1f3a9f5b255607591c5d6133f0\"',\n",
       "  'Size': 8561,\n",
       "  'StorageClass': 'STANDARD'},\n",
       " {'Key': 'bobo.jpg',\n",
       "  'LastModified': datetime.datetime(2024, 2, 27, 20, 4, 51, tzinfo=tzutc()),\n",
       "  'ETag': '\"2e8237e26cfa24fea01e2cb224b71ab3\"',\n",
       "  'Size': 10488,\n",
       "  'StorageClass': 'STANDARD'}]"
      ]
     },
     "execution_count": 149,
     "metadata": {},
     "output_type": "execute_result"
    }
   ],
   "source": [
    "get_contents"
   ]
  },
  {
   "cell_type": "code",
   "execution_count": 150,
   "metadata": {},
   "outputs": [],
   "source": [
    "get_all_s3_objects_and_folder_names = []\n",
    "for item in get_contents:\n",
    "    s3_object_name = item.get(\"Key\")\n",
    "\n",
    "    get_all_s3_objects_and_folder_names.append(s3_object_name)"
   ]
  },
  {
   "cell_type": "code",
   "execution_count": 151,
   "metadata": {},
   "outputs": [
    {
     "data": {
      "text/plain": [
       "['20240227/',\n",
       " '20240227/bobo.jpg',\n",
       " '20240227/eyes1.webp',\n",
       " '20240227/eyes2.webp',\n",
       " '20240227/eyes3.webp',\n",
       " '20240227/game.jpg',\n",
       " '20240227/gogo.jpg',\n",
       " 'bobo.jpg']"
      ]
     },
     "execution_count": 151,
     "metadata": {},
     "output_type": "execute_result"
    }
   ],
   "source": [
    "get_all_s3_objects_and_folder_names "
   ]
  },
  {
   "cell_type": "code",
   "execution_count": 152,
   "metadata": {},
   "outputs": [],
   "source": [
    "directory_name = todays_date + \"/\""
   ]
  },
  {
   "cell_type": "code",
   "execution_count": 153,
   "metadata": {},
   "outputs": [
    {
     "data": {
      "text/plain": [
       "'20240227/'"
      ]
     },
     "execution_count": 153,
     "metadata": {},
     "output_type": "execute_result"
    }
   ],
   "source": [
    "directory_name"
   ]
  },
  {
   "cell_type": "code",
   "execution_count": 154,
   "metadata": {},
   "outputs": [
    {
     "data": {
      "text/plain": [
       "['20240227/',\n",
       " '20240227/bobo.jpg',\n",
       " '20240227/eyes1.webp',\n",
       " '20240227/eyes2.webp',\n",
       " '20240227/eyes3.webp',\n",
       " '20240227/game.jpg',\n",
       " '20240227/gogo.jpg',\n",
       " 'bobo.jpg']"
      ]
     },
     "execution_count": 154,
     "metadata": {},
     "output_type": "execute_result"
    }
   ],
   "source": [
    "\n",
    "get_all_s3_objects_and_folder_names "
   ]
  },
  {
   "cell_type": "code",
   "execution_count": 155,
   "metadata": {},
   "outputs": [],
   "source": [
    "if directory_name not in get_all_s3_objects_and_folder_names:\n",
    "    s3_client.put_object(Bucket=bucket_name, Key=(directory_name))\n"
   ]
  },
  {
   "cell_type": "code",
   "execution_count": 156,
   "metadata": {},
   "outputs": [],
   "source": [
    "for item in get_contents:\n",
    "    object_creation_date = item.get(\"LastModified\").strftime(\"%Y%m%d\") + \"/\"\n",
    "    object_name = item.get(\"Key\")\n",
    "\n",
    "    if object_creation_date == directory_name and \"/\" not in object_name: \n",
    "       s3_client.copy_object(Bucket=bucket_name, CopySource=bucket_name+\"/\"+object_name, Key=directory_name+object_name)"
   ]
  },
  {
   "cell_type": "code",
   "execution_count": 157,
   "metadata": {},
   "outputs": [
    {
     "data": {
      "text/plain": [
       "{'ResponseMetadata': {'RequestId': 'CF59MDZ8KA9V30MJ',\n",
       "  'HostId': 'XbEY/8kRAbrqF2UvjA7X1X8hkGNoWt5AJ6dUYlcwrOsWg7tmBnQ0HBQWSNZ7DMWCaWijRYxrkcU=',\n",
       "  'HTTPStatusCode': 204,\n",
       "  'HTTPHeaders': {'x-amz-id-2': 'XbEY/8kRAbrqF2UvjA7X1X8hkGNoWt5AJ6dUYlcwrOsWg7tmBnQ0HBQWSNZ7DMWCaWijRYxrkcU=',\n",
       "   'x-amz-request-id': 'CF59MDZ8KA9V30MJ',\n",
       "   'date': 'Tue, 27 Feb 2024 20:11:40 GMT',\n",
       "   'x-amz-version-id': 'c7Uha7Ggn2UJfkDjMUrnu7V9AyeXU4CG',\n",
       "   'x-amz-delete-marker': 'true',\n",
       "   'server': 'AmazonS3'},\n",
       "  'RetryAttempts': 0},\n",
       " 'DeleteMarker': True,\n",
       " 'VersionId': 'c7Uha7Ggn2UJfkDjMUrnu7V9AyeXU4CG'}"
      ]
     },
     "execution_count": 157,
     "metadata": {},
     "output_type": "execute_result"
    }
   ],
   "source": [
    "s3_client.delete_object(Bucket=bucket_name, Key=object_name)\n"
   ]
  }
 ],
 "metadata": {
  "kernelspec": {
   "display_name": "Python 3",
   "language": "python",
   "name": "python3"
  },
  "language_info": {
   "codemirror_mode": {
    "name": "ipython",
    "version": 3
   },
   "file_extension": ".py",
   "mimetype": "text/x-python",
   "name": "python",
   "nbconvert_exporter": "python",
   "pygments_lexer": "ipython3",
   "version": "3.11.8"
  }
 },
 "nbformat": 4,
 "nbformat_minor": 2
}
